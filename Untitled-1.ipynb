{
 "cells": [
  {
   "cell_type": "code",
   "execution_count": 5,
   "metadata": {},
   "outputs": [
    {
     "name": "stdout",
     "output_type": "stream",
     "text": [
      "200\n"
     ]
    }
   ],
   "source": [
    "import requests\n",
    "topic_url='https://github.com/topics'\n",
    "response=requests.get(topic_url)\n",
    "print(response.status_code)\n",
    "\n",
    "page_content=response.text\n",
    "page_content[:1000]"
   ]
  }
 ],
 "metadata": {
  "kernelspec": {
   "display_name": "Python 3.10.6 64-bit",
   "language": "python",
   "name": "python3"
  },
  "language_info": {
   "codemirror_mode": {
    "name": "ipython",
    "version": 3
   },
   "file_extension": ".py",
   "mimetype": "text/x-python",
   "name": "python",
   "nbconvert_exporter": "python",
   "pygments_lexer": "ipython3",
   "version": "3.10.6"
  },
  "orig_nbformat": 4,
  "vscode": {
   "interpreter": {
    "hash": "b4be14e1d79b34832a6e3f9d2d71be81a7dfa3774def991a9f21241d5e2b826e"
   }
  }
 },
 "nbformat": 4,
 "nbformat_minor": 2
}
